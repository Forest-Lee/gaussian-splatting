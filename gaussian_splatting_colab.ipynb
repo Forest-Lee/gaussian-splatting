{
  "cells": [
    {
      "cell_type": "markdown",
      "metadata": {
        "id": "view-in-github",
        "colab_type": "text"
      },
      "source": [
        "<a href=\"https://colab.research.google.com/github/Forest-Lee/gaussian-splatting/blob/main/gaussian_splatting_colab.ipynb\" target=\"_parent\"><img src=\"https://colab.research.google.com/assets/colab-badge.svg\" alt=\"Open In Colab\"/></a>"
      ]
    },
    {
      "cell_type": "code",
      "execution_count": 1,
      "metadata": {
        "id": "VjYy0F2gZIPR",
        "collapsed": true,
        "outputId": "f8b18085-c7c8-4057-d91b-9ed553c5220b",
        "colab": {
          "base_uri": "https://localhost:8080/"
        }
      },
      "outputs": [
        {
          "output_type": "stream",
          "name": "stdout",
          "text": [
            "/content\n",
            "Cloning into 'gaussian-splatting'...\n",
            "remote: Enumerating objects: 603, done.\u001b[K\n",
            "remote: Total 603 (delta 0), reused 0 (delta 0), pack-reused 603 (from 1)\u001b[K\n",
            "Receiving objects: 100% (603/603), 2.09 MiB | 4.99 MiB/s, done.\n",
            "Resolving deltas: 100% (347/347), done.\n",
            "Submodule 'SIBR_viewers' (https://gitlab.inria.fr/sibr/sibr_core) registered for path 'SIBR_viewers'\n",
            "Submodule 'submodules/diff-gaussian-rasterization' (https://github.com/graphdeco-inria/diff-gaussian-rasterization) registered for path 'submodules/diff-gaussian-rasterization'\n",
            "Submodule 'submodules/simple-knn' (https://gitlab.inria.fr/bkerbl/simple-knn.git) registered for path 'submodules/simple-knn'\n",
            "Cloning into '/content/gaussian-splatting/SIBR_viewers'...\n",
            "warning: redirecting to https://gitlab.inria.fr/sibr/sibr_core.git/\n",
            "remote: Enumerating objects: 3270, done.        \n",
            "remote: Counting objects: 100% (299/299), done.        \n",
            "remote: Compressing objects: 100% (164/164), done.        \n",
            "remote: Total 3270 (delta 157), reused 259 (delta 135), pack-reused 2971 (from 1)        \n",
            "Receiving objects: 100% (3270/3270), 9.97 MiB | 8.19 MiB/s, done.\n",
            "Resolving deltas: 100% (2025/2025), done.\n",
            "Cloning into '/content/gaussian-splatting/submodules/diff-gaussian-rasterization'...\n",
            "remote: Enumerating objects: 329, done.        \n",
            "remote: Counting objects: 100% (189/189), done.        \n",
            "remote: Compressing objects: 100% (53/53), done.        \n",
            "remote: Total 329 (delta 161), reused 136 (delta 136), pack-reused 140 (from 1)        \n",
            "Receiving objects: 100% (329/329), 126.11 KiB | 709.00 KiB/s, done.\n",
            "Resolving deltas: 100% (210/210), done.\n",
            "Cloning into '/content/gaussian-splatting/submodules/simple-knn'...\n",
            "remote: Enumerating objects: 37, done.        \n",
            "remote: Counting objects: 100% (37/37), done.        \n",
            "remote: Compressing objects: 100% (34/34), done.        \n",
            "remote: Total 37 (delta 18), reused 0 (delta 0), pack-reused 0 (from 0)        \n",
            "Receiving objects: 100% (37/37), 9.41 KiB | 9.41 MiB/s, done.\n",
            "Resolving deltas: 100% (18/18), done.\n",
            "Submodule path 'SIBR_viewers': checked out '14199886ae3f42358092c16ada909c1e0b1cba20'\n",
            "Submodule path 'submodules/diff-gaussian-rasterization': checked out '8064f52ca233942bdec2d1a1451c026deedd320b'\n",
            "Submodule 'third_party/glm' (https://github.com/g-truc/glm.git) registered for path 'submodules/diff-gaussian-rasterization/third_party/glm'\n",
            "Cloning into '/content/gaussian-splatting/submodules/diff-gaussian-rasterization/third_party/glm'...\n",
            "remote: Enumerating objects: 59615, done.        \n",
            "remote: Counting objects: 100% (5/5), done.        \n",
            "remote: Compressing objects: 100% (4/4), done.        \n",
            "remote: Total 59615 (delta 0), reused 3 (delta 0), pack-reused 59610 (from 1)        \n",
            "Receiving objects: 100% (59615/59615), 71.20 MiB | 22.34 MiB/s, done.\n",
            "Resolving deltas: 100% (45208/45208), done.\n",
            "Submodule path 'submodules/diff-gaussian-rasterization/third_party/glm': checked out '5c46b9c07008ae65cb81ab79cd677ecc1934b903'\n",
            "Submodule path 'submodules/simple-knn': checked out '44f764299fa305faf6ec5ebd99939e0508331503'\n",
            "/content/gaussian-splatting\n",
            "  Preparing metadata (setup.py) ... \u001b[?25l\u001b[?25hdone\n",
            "  Building wheel for diff_gaussian_rasterization (setup.py) ... \u001b[?25l\u001b[?25hdone\n",
            "  Preparing metadata (setup.py) ... \u001b[?25l\u001b[?25hdone\n",
            "  Building wheel for simple_knn (setup.py) ... \u001b[?25l\u001b[?25hdone\n",
            "--2024-12-09 05:35:05--  https://huggingface.co/camenduru/gaussian-splatting/resolve/main/tandt_db.zip\n",
            "Resolving huggingface.co (huggingface.co)... 108.138.246.79, 108.138.246.85, 108.138.246.71, ...\n",
            "Connecting to huggingface.co (huggingface.co)|108.138.246.79|:443... connected.\n",
            "HTTP request sent, awaiting response... 302 Found\n",
            "Location: https://cdn-lfs.hf.co/repos/69/11/6911555bcb5edae447d514169831329398b45a3ed9ae3b00817878bc501559a1/816e62f22a161abbfe841d2a6b10cdf036e297c9fa289b3bfeee9c6ec526d7e1?response-content-disposition=inline%3B+filename*%3DUTF-8%27%27tandt_db.zip%3B+filename%3D%22tandt_db.zip%22%3B&response-content-type=application%2Fzip&Expires=1733981706&Policy=eyJTdGF0ZW1lbnQiOlt7IkNvbmRpdGlvbiI6eyJEYXRlTGVzc1RoYW4iOnsiQVdTOkVwb2NoVGltZSI6MTczMzk4MTcwNn19LCJSZXNvdXJjZSI6Imh0dHBzOi8vY2RuLWxmcy5oZi5jby9yZXBvcy82OS8xMS82OTExNTU1YmNiNWVkYWU0NDdkNTE0MTY5ODMxMzI5Mzk4YjQ1YTNlZDlhZTNiMDA4MTc4NzhiYzUwMTU1OWExLzgxNmU2MmYyMmExNjFhYmJmZTg0MWQyYTZiMTBjZGYwMzZlMjk3YzlmYTI4OWIzYmZlZWU5YzZlYzUyNmQ3ZTE%7EcmVzcG9uc2UtY29udGVudC1kaXNwb3NpdGlvbj0qJnJlc3BvbnNlLWNvbnRlbnQtdHlwZT0qIn1dfQ__&Signature=dXDE9Xy4mS0CMdWfDZMb8vxqw0XTTyc3ZhtkBRWhPqnPIfOvgdQTOqpevFnYJQspygy9ks7YmlbCO707OkEMsYuONWGEMzTu-RzIraUxyMEcM7T63HrL2hnQq9x0zzTAN8oYAbMsWBvjWhD%7Ef3CKgvLq41bNZmjNUx6PbpaiNodH1ev-NeQ5HeCg5qD%7EaO7GGyFTPYAoqUOp34IACScLml6ol5Yyxm9vqIbOAgpctzWZ2ajJtync1fN5RZmJT7x%7EBkXuzgrjr%7E2lKY62uB1pSbNRilnVAPLq2M7LcsabuyDKpKDIG-37gNvXfiJiqPHJn5wgaSzLOgfaUQBlU7ZNeA__&Key-Pair-Id=K3RPWS32NSSJCE [following]\n",
            "--2024-12-09 05:35:06--  https://cdn-lfs.hf.co/repos/69/11/6911555bcb5edae447d514169831329398b45a3ed9ae3b00817878bc501559a1/816e62f22a161abbfe841d2a6b10cdf036e297c9fa289b3bfeee9c6ec526d7e1?response-content-disposition=inline%3B+filename*%3DUTF-8%27%27tandt_db.zip%3B+filename%3D%22tandt_db.zip%22%3B&response-content-type=application%2Fzip&Expires=1733981706&Policy=eyJTdGF0ZW1lbnQiOlt7IkNvbmRpdGlvbiI6eyJEYXRlTGVzc1RoYW4iOnsiQVdTOkVwb2NoVGltZSI6MTczMzk4MTcwNn19LCJSZXNvdXJjZSI6Imh0dHBzOi8vY2RuLWxmcy5oZi5jby9yZXBvcy82OS8xMS82OTExNTU1YmNiNWVkYWU0NDdkNTE0MTY5ODMxMzI5Mzk4YjQ1YTNlZDlhZTNiMDA4MTc4NzhiYzUwMTU1OWExLzgxNmU2MmYyMmExNjFhYmJmZTg0MWQyYTZiMTBjZGYwMzZlMjk3YzlmYTI4OWIzYmZlZWU5YzZlYzUyNmQ3ZTE%7EcmVzcG9uc2UtY29udGVudC1kaXNwb3NpdGlvbj0qJnJlc3BvbnNlLWNvbnRlbnQtdHlwZT0qIn1dfQ__&Signature=dXDE9Xy4mS0CMdWfDZMb8vxqw0XTTyc3ZhtkBRWhPqnPIfOvgdQTOqpevFnYJQspygy9ks7YmlbCO707OkEMsYuONWGEMzTu-RzIraUxyMEcM7T63HrL2hnQq9x0zzTAN8oYAbMsWBvjWhD%7Ef3CKgvLq41bNZmjNUx6PbpaiNodH1ev-NeQ5HeCg5qD%7EaO7GGyFTPYAoqUOp34IACScLml6ol5Yyxm9vqIbOAgpctzWZ2ajJtync1fN5RZmJT7x%7EBkXuzgrjr%7E2lKY62uB1pSbNRilnVAPLq2M7LcsabuyDKpKDIG-37gNvXfiJiqPHJn5wgaSzLOgfaUQBlU7ZNeA__&Key-Pair-Id=K3RPWS32NSSJCE\n",
            "Resolving cdn-lfs.hf.co (cdn-lfs.hf.co)... 3.168.132.51, 3.168.132.25, 3.168.132.48, ...\n",
            "Connecting to cdn-lfs.hf.co (cdn-lfs.hf.co)|3.168.132.51|:443... connected.\n",
            "HTTP request sent, awaiting response... 200 OK\n",
            "Length: 682628995 (651M) [application/zip]\n",
            "Saving to: ‘tandt_db.zip’\n",
            "\n",
            "tandt_db.zip        100%[===================>] 651.00M   223MB/s    in 2.9s    \n",
            "\n",
            "2024-12-09 05:35:09 (223 MB/s) - ‘tandt_db.zip’ saved [682628995/682628995]\n",
            "\n",
            "2024-12-09 05:35:18.613632: E external/local_xla/xla/stream_executor/cuda/cuda_fft.cc:485] Unable to register cuFFT factory: Attempting to register factory for plugin cuFFT when one has already been registered\n",
            "2024-12-09 05:35:18.634573: E external/local_xla/xla/stream_executor/cuda/cuda_dnn.cc:8454] Unable to register cuDNN factory: Attempting to register factory for plugin cuDNN when one has already been registered\n",
            "2024-12-09 05:35:18.640678: E external/local_xla/xla/stream_executor/cuda/cuda_blas.cc:1452] Unable to register cuBLAS factory: Attempting to register factory for plugin cuBLAS when one has already been registered\n",
            "2024-12-09 05:35:18.655050: I tensorflow/core/platform/cpu_feature_guard.cc:210] This TensorFlow binary is optimized to use available CPU instructions in performance-critical operations.\n",
            "To enable the following instructions: AVX2 AVX512F FMA, in other operations, rebuild TensorFlow with the appropriate compiler flags.\n",
            "2024-12-09 05:35:19.660563: W tensorflow/compiler/tf2tensorrt/utils/py_utils.cc:38] TF-TRT Warning: Could not find TensorRT\n",
            "Optimizing \n",
            "Output folder: ./output/58068439-e [09/12 05:35:21]\n",
            "Reading camera 301/301 [09/12 05:35:23]\n",
            "Converting point3d.bin to .ply, will happen only the first time you open the scene. [09/12 05:35:23]\n",
            "Loading Training Cameras [09/12 05:35:25]\n",
            "Loading Test Cameras [09/12 05:35:30]\n",
            "Number of points at initialisation :  182686 [09/12 05:35:31]\n",
            "Training progress:  23% 7000/30000 [06:38<26:01, 14.73it/s, Loss=0.1066239]\n",
            "[ITER 7000] Evaluating test: L1 0.07872843134560083 PSNR 19.50553738443475 [09/12 05:42:18]\n",
            "\n",
            "[ITER 7000] Evaluating train: L1 0.05489892587065697 PSNR 21.551798248291018 [09/12 05:42:23]\n",
            "\n",
            "[ITER 7000] Saving Gaussians [09/12 05:42:23]\n",
            "Training progress: 100% 30000/30000 [38:40<00:00, 12.93it/s, Loss=0.0468320]\n",
            "\n",
            "[ITER 30000] Evaluating test: L1 0.056618784260200825 PSNR 22.082448758577044 [09/12 06:14:19]\n",
            "\n",
            "[ITER 30000] Evaluating train: L1 0.031912486627697946 PSNR 26.222452545166018 [09/12 06:14:21]\n",
            "\n",
            "[ITER 30000] Saving Gaussians [09/12 06:14:21]\n",
            "\n",
            "Training complete. [09/12 06:14:32]\n"
          ]
        }
      ],
      "source": [
        "%cd /content\n",
        "!git clone --recursive https://github.com/camenduru/gaussian-splatting\n",
        "!pip install -q plyfile\n",
        "\n",
        "%cd /content/gaussian-splatting\n",
        "!pip install -q /content/gaussian-splatting/submodules/diff-gaussian-rasterization\n",
        "!pip install -q /content/gaussian-splatting/submodules/simple-knn\n",
        "\n",
        "!wget https://huggingface.co/camenduru/gaussian-splatting/resolve/main/tandt_db.zip\n",
        "!unzip -q tandt_db.zip\n",
        "\n",
        "!python train.py -s /content/gaussian-splatting/tandt/train --eval\n",
        "\n",
        "# !wget https://huggingface.co/camenduru/gaussian-splatting/resolve/main/GaussianViewTest.zip\n",
        "# !unzip GaussianViewTest.zip\n",
        "# !python render.py -m /content/gaussian-splatting/GaussianViewTest/model\n",
        "# !ffmpeg -framerate 3 -i /content/gaussian-splatting/GaussianViewTest/model/train/ours_30000/renders/%05d.png -vf \"pad=ceil(iw/2)*2:ceil(ih/2)*2\" -c:v libx264 -r 3 -pix_fmt yuv420p /content/renders.mp4\n",
        "# !ffmpeg -framerate 3 -i /content/gaussian-splatting/GaussianViewTest/model/train/ours_30000/gt/%05d.png -vf \"pad=ceil(iw/2)*2:ceil(ih/2)*2\" -c:v libx264 -r 3 -pix_fmt yuv420p /content/gt.mp4 -y"
      ]
    },
    {
      "cell_type": "code",
      "source": [
        "!wget https://huggingface.co/camenduru/gaussian-splatting/resolve/main/GaussianViewTest.zip\n",
        "!unzip -q GaussianViewTest.zip"
      ],
      "metadata": {
        "collapsed": true,
        "id": "ZvpP64PkDVPM",
        "outputId": "da287a3f-e46b-4b6d-df89-4f272ea277c4",
        "colab": {
          "base_uri": "https://localhost:8080/"
        }
      },
      "execution_count": 2,
      "outputs": [
        {
          "output_type": "stream",
          "name": "stdout",
          "text": [
            "--2024-12-09 06:15:25--  https://huggingface.co/camenduru/gaussian-splatting/resolve/main/GaussianViewTest.zip\n",
            "Resolving huggingface.co (huggingface.co)... 18.164.174.23, 18.164.174.118, 18.164.174.17, ...\n",
            "Connecting to huggingface.co (huggingface.co)|18.164.174.23|:443... connected.\n",
            "HTTP request sent, awaiting response... 302 Found\n",
            "Location: https://cdn-lfs.hf.co/repos/69/11/6911555bcb5edae447d514169831329398b45a3ed9ae3b00817878bc501559a1/04543c347c164deaec3f0f4b585a7e9bb15b08a01607fdb4bfda88e8109d9238?response-content-disposition=inline%3B+filename*%3DUTF-8%27%27GaussianViewTest.zip%3B+filename%3D%22GaussianViewTest.zip%22%3B&response-content-type=application%2Fzip&Expires=1733984126&Policy=eyJTdGF0ZW1lbnQiOlt7IkNvbmRpdGlvbiI6eyJEYXRlTGVzc1RoYW4iOnsiQVdTOkVwb2NoVGltZSI6MTczMzk4NDEyNn19LCJSZXNvdXJjZSI6Imh0dHBzOi8vY2RuLWxmcy5oZi5jby9yZXBvcy82OS8xMS82OTExNTU1YmNiNWVkYWU0NDdkNTE0MTY5ODMxMzI5Mzk4YjQ1YTNlZDlhZTNiMDA4MTc4NzhiYzUwMTU1OWExLzA0NTQzYzM0N2MxNjRkZWFlYzNmMGY0YjU4NWE3ZTliYjE1YjA4YTAxNjA3ZmRiNGJmZGE4OGU4MTA5ZDkyMzg%7EcmVzcG9uc2UtY29udGVudC1kaXNwb3NpdGlvbj0qJnJlc3BvbnNlLWNvbnRlbnQtdHlwZT0qIn1dfQ__&Signature=f2hOGDN7smIj43Zgx-bsYPbh7D5uJ8P5P3xz2rrdO7Z5KR9JssBQ95SD8XE-w8v9iQ0-QPI7oSPXPHPEkT7hRgBtlJJG4Xj1TGlZgo4WY6YhkJb6zRHr0noIyN%7EA98z%7Eo1bQer5qwXV2wOjSCibgKKZAB2choJGeql2SjzpcGjRcIlI9p0FmCnfxC5jiKRmoP3qGdfXu55-IPQzQpREcbsG1Y1I8ylbaCLY255k%7EF6U8qxPNh4lF6ajwjaL-4xXBpXcS08BKKHoQm1aPiKA39spWAp93ajjWwKbUBtX9TRu3Em9rmtfs3gKAQT%7EfXp1w0o9rX0yDmT9gsIij3lMa2Q__&Key-Pair-Id=K3RPWS32NSSJCE [following]\n",
            "--2024-12-09 06:15:26--  https://cdn-lfs.hf.co/repos/69/11/6911555bcb5edae447d514169831329398b45a3ed9ae3b00817878bc501559a1/04543c347c164deaec3f0f4b585a7e9bb15b08a01607fdb4bfda88e8109d9238?response-content-disposition=inline%3B+filename*%3DUTF-8%27%27GaussianViewTest.zip%3B+filename%3D%22GaussianViewTest.zip%22%3B&response-content-type=application%2Fzip&Expires=1733984126&Policy=eyJTdGF0ZW1lbnQiOlt7IkNvbmRpdGlvbiI6eyJEYXRlTGVzc1RoYW4iOnsiQVdTOkVwb2NoVGltZSI6MTczMzk4NDEyNn19LCJSZXNvdXJjZSI6Imh0dHBzOi8vY2RuLWxmcy5oZi5jby9yZXBvcy82OS8xMS82OTExNTU1YmNiNWVkYWU0NDdkNTE0MTY5ODMxMzI5Mzk4YjQ1YTNlZDlhZTNiMDA4MTc4NzhiYzUwMTU1OWExLzA0NTQzYzM0N2MxNjRkZWFlYzNmMGY0YjU4NWE3ZTliYjE1YjA4YTAxNjA3ZmRiNGJmZGE4OGU4MTA5ZDkyMzg%7EcmVzcG9uc2UtY29udGVudC1kaXNwb3NpdGlvbj0qJnJlc3BvbnNlLWNvbnRlbnQtdHlwZT0qIn1dfQ__&Signature=f2hOGDN7smIj43Zgx-bsYPbh7D5uJ8P5P3xz2rrdO7Z5KR9JssBQ95SD8XE-w8v9iQ0-QPI7oSPXPHPEkT7hRgBtlJJG4Xj1TGlZgo4WY6YhkJb6zRHr0noIyN%7EA98z%7Eo1bQer5qwXV2wOjSCibgKKZAB2choJGeql2SjzpcGjRcIlI9p0FmCnfxC5jiKRmoP3qGdfXu55-IPQzQpREcbsG1Y1I8ylbaCLY255k%7EF6U8qxPNh4lF6ajwjaL-4xXBpXcS08BKKHoQm1aPiKA39spWAp93ajjWwKbUBtX9TRu3Em9rmtfs3gKAQT%7EfXp1w0o9rX0yDmT9gsIij3lMa2Q__&Key-Pair-Id=K3RPWS32NSSJCE\n",
            "Resolving cdn-lfs.hf.co (cdn-lfs.hf.co)... 3.168.132.99, 3.168.132.25, 3.168.132.48, ...\n",
            "Connecting to cdn-lfs.hf.co (cdn-lfs.hf.co)|3.168.132.99|:443... connected.\n",
            "HTTP request sent, awaiting response... 200 OK\n",
            "Length: 487321454 (465M) [application/zip]\n",
            "Saving to: ‘GaussianViewTest.zip’\n",
            "\n",
            "GaussianViewTest.zi 100%[===================>] 464.75M   223MB/s    in 2.1s    \n",
            "\n",
            "2024-12-09 06:15:28 (223 MB/s) - ‘GaussianViewTest.zip’ saved [487321454/487321454]\n",
            "\n"
          ]
        }
      ]
    },
    {
      "cell_type": "code",
      "source": [
        "# change path args manually in GaussianViewTest/model/cfg_args\n",
        "!python render.py -m /content/gaussian-splatting/GaussianViewTest/model -s /content/gaussian-splatting/tandt/train\n",
        "!python metrics.py -m /content/gaussian-splatting/GaussianViewTest/model"
      ],
      "metadata": {
        "collapsed": true,
        "id": "XuRXbqroDsjz",
        "outputId": "8267785e-b324-4da7-b88b-94879cd81107",
        "colab": {
          "base_uri": "https://localhost:8080/"
        }
      },
      "execution_count": 6,
      "outputs": [
        {
          "output_type": "stream",
          "name": "stdout",
          "text": [
            "Looking for config file in /content/gaussian-splatting/GaussianViewTest/model/cfg_args\n",
            "Config file found: /content/gaussian-splatting/GaussianViewTest/model/cfg_args\n",
            "Rendering /content/gaussian-splatting/GaussianViewTest/model\n",
            "Loading trained model at iteration 30000 [09/12 06:23:24]\n",
            "Reading camera 301/301 [09/12 06:23:25]\n",
            "Loading Training Cameras [09/12 06:23:25]\n",
            "Loading Test Cameras [09/12 06:23:32]\n",
            "Rendering progress: 100% 301/301 [02:16<00:00,  2.21it/s]\n",
            "Rendering progress: 0it [00:00, ?it/s]\n",
            "\n",
            "Scene: /content/gaussian-splatting/GaussianViewTest/model\n",
            "Method: ours_30000\n",
            "Metric evaluation progress: 0it [00:00, ?it/s]\n",
            "  SSIM :          nan\n",
            "  PSNR :          nan\n",
            "  LPIPS:          nan\n",
            "\n"
          ]
        }
      ]
    },
    {
      "cell_type": "code",
      "source": [
        "!ffmpeg -framerate 3 -i /content/gaussian-splatting/GaussianViewTest/model/train/ours_30000/renders/%05d.png -vf \"pad=ceil(iw/2)*2:ceil(ih/2)*2\" -c:v libx264 -r 3 -pix_fmt yuv420p /content/renders.mp4\n",
        "!ffmpeg -framerate 3 -i /content/gaussian-splatting/GaussianViewTest/model/train/ours_30000/gt/%05d.png -vf \"pad=ceil(iw/2)*2:ceil(ih/2)*2\" -c:v libx264 -r 3 -pix_fmt yuv420p /content/gt.mp4 -y"
      ],
      "metadata": {
        "collapsed": true,
        "id": "90qbqtfa5K7h",
        "outputId": "9170289c-eee9-4e7d-f40e-39b9178176d3",
        "colab": {
          "base_uri": "https://localhost:8080/"
        }
      },
      "execution_count": 7,
      "outputs": [
        {
          "output_type": "stream",
          "name": "stdout",
          "text": [
            "ffmpeg version 4.4.2-0ubuntu0.22.04.1 Copyright (c) 2000-2021 the FFmpeg developers\n",
            "  built with gcc 11 (Ubuntu 11.2.0-19ubuntu1)\n",
            "  configuration: --prefix=/usr --extra-version=0ubuntu0.22.04.1 --toolchain=hardened --libdir=/usr/lib/x86_64-linux-gnu --incdir=/usr/include/x86_64-linux-gnu --arch=amd64 --enable-gpl --disable-stripping --enable-gnutls --enable-ladspa --enable-libaom --enable-libass --enable-libbluray --enable-libbs2b --enable-libcaca --enable-libcdio --enable-libcodec2 --enable-libdav1d --enable-libflite --enable-libfontconfig --enable-libfreetype --enable-libfribidi --enable-libgme --enable-libgsm --enable-libjack --enable-libmp3lame --enable-libmysofa --enable-libopenjpeg --enable-libopenmpt --enable-libopus --enable-libpulse --enable-librabbitmq --enable-librubberband --enable-libshine --enable-libsnappy --enable-libsoxr --enable-libspeex --enable-libsrt --enable-libssh --enable-libtheora --enable-libtwolame --enable-libvidstab --enable-libvorbis --enable-libvpx --enable-libwebp --enable-libx265 --enable-libxml2 --enable-libxvid --enable-libzimg --enable-libzmq --enable-libzvbi --enable-lv2 --enable-omx --enable-openal --enable-opencl --enable-opengl --enable-sdl2 --enable-pocketsphinx --enable-librsvg --enable-libmfx --enable-libdc1394 --enable-libdrm --enable-libiec61883 --enable-chromaprint --enable-frei0r --enable-libx264 --enable-shared\n",
            "  libavutil      56. 70.100 / 56. 70.100\n",
            "  libavcodec     58.134.100 / 58.134.100\n",
            "  libavformat    58. 76.100 / 58. 76.100\n",
            "  libavdevice    58. 13.100 / 58. 13.100\n",
            "  libavfilter     7.110.100 /  7.110.100\n",
            "  libswscale      5.  9.100 /  5.  9.100\n",
            "  libswresample   3.  9.100 /  3.  9.100\n",
            "  libpostproc    55.  9.100 / 55.  9.100\n",
            "Input #0, image2, from '/content/gaussian-splatting/GaussianViewTest/model/train/ours_30000/renders/%05d.png':\n",
            "  Duration: 00:01:40.33, start: 0.000000, bitrate: N/A\n",
            "  Stream #0:0: Video: png, rgb24(pc), 980x545, 3 fps, 3 tbr, 3 tbn, 3 tbc\n",
            "Stream mapping:\n",
            "  Stream #0:0 -> #0:0 (png (native) -> h264 (libx264))\n",
            "Press [q] to stop, [?] for help\n",
            "\u001b[1;36m[libx264 @ 0x56a2d1dad900] \u001b[0musing cpu capabilities: MMX2 SSE2Fast SSSE3 SSE4.2 AVX FMA3 BMI2 AVX2 AVX512\n",
            "\u001b[1;36m[libx264 @ 0x56a2d1dad900] \u001b[0mprofile High, level 3.1, 4:2:0, 8-bit\n",
            "\u001b[1;36m[libx264 @ 0x56a2d1dad900] \u001b[0m264 - core 163 r3060 5db6aa6 - H.264/MPEG-4 AVC codec - Copyleft 2003-2021 - http://www.videolan.org/x264.html - options: cabac=1 ref=3 deblock=1:0:0 analyse=0x3:0x113 me=hex subme=7 psy=1 psy_rd=1.00:0.00 mixed_ref=1 me_range=16 chroma_me=1 trellis=1 8x8dct=1 cqm=0 deadzone=21,11 fast_pskip=1 chroma_qp_offset=-2 threads=3 lookahead_threads=1 sliced_threads=0 nr=0 decimate=1 interlaced=0 bluray_compat=0 constrained_intra=0 bframes=3 b_pyramid=2 b_adapt=1 b_bias=0 direct=1 weightb=1 open_gop=0 weightp=2 keyint=250 keyint_min=3 scenecut=40 intra_refresh=0 rc_lookahead=40 rc=crf mbtree=1 crf=23.0 qcomp=0.60 qpmin=0 qpmax=69 qpstep=4 ip_ratio=1.40 aq=1:1.00\n",
            "Output #0, mp4, to '/content/renders.mp4':\n",
            "  Metadata:\n",
            "    encoder         : Lavf58.76.100\n",
            "  Stream #0:0: Video: h264 (avc1 / 0x31637661), yuv420p(tv, progressive), 980x546, q=2-31, 3 fps, 12288 tbn\n",
            "    Metadata:\n",
            "      encoder         : Lavc58.134.100 libx264\n",
            "    Side data:\n",
            "      cpb: bitrate max/min/avg: 0/0/0 buffer size: 0 vbv_delay: N/A\n",
            "frame=  301 fps= 10 q=-1.0 Lsize=   18068kB time=00:01:39.33 bitrate=1490.0kbits/s speed=3.45x    \n",
            "video:18064kB audio:0kB subtitle:0kB other streams:0kB global headers:0kB muxing overhead: 0.020311%\n",
            "\u001b[1;36m[libx264 @ 0x56a2d1dad900] \u001b[0mframe I:26    Avg QP:17.32  size: 92956\n",
            "\u001b[1;36m[libx264 @ 0x56a2d1dad900] \u001b[0mframe P:179   Avg QP:20.78  size: 64198\n",
            "\u001b[1;36m[libx264 @ 0x56a2d1dad900] \u001b[0mframe B:96    Avg QP:20.91  size: 47797\n",
            "\u001b[1;36m[libx264 @ 0x56a2d1dad900] \u001b[0mconsecutive B-frames: 49.8% 18.6% 13.0% 18.6%\n",
            "\u001b[1;36m[libx264 @ 0x56a2d1dad900] \u001b[0mmb I  I16..4:  5.0% 51.4% 43.5%\n",
            "\u001b[1;36m[libx264 @ 0x56a2d1dad900] \u001b[0mmb P  I16..4:  4.7% 41.0% 24.2%  P16..4:  8.2% 12.7%  8.9%  0.0%  0.0%    skip: 0.2%\n",
            "\u001b[1;36m[libx264 @ 0x56a2d1dad900] \u001b[0mmb B  I16..4:  3.2% 16.1% 10.9%  B16..8: 18.0% 27.4% 15.8%  direct: 7.0%  skip: 1.6%  L0:40.2% L1:33.6% BI:26.3%\n",
            "\u001b[1;36m[libx264 @ 0x56a2d1dad900] \u001b[0m8x8 transform intra:56.7% inter:60.3%\n",
            "\u001b[1;36m[libx264 @ 0x56a2d1dad900] \u001b[0mcoded y,uvDC,uvAC intra: 81.9% 87.9% 61.6% inter: 76.1% 62.3% 9.2%\n",
            "\u001b[1;36m[libx264 @ 0x56a2d1dad900] \u001b[0mi16 v,h,dc,p:  5% 40%  3% 52%\n",
            "\u001b[1;36m[libx264 @ 0x56a2d1dad900] \u001b[0mi8 v,h,dc,ddl,ddr,vr,hd,vl,hu: 20% 26% 12%  5%  6%  6%  9%  6% 12%\n",
            "\u001b[1;36m[libx264 @ 0x56a2d1dad900] \u001b[0mi4 v,h,dc,ddl,ddr,vr,hd,vl,hu: 21% 28%  8%  5%  7%  7% 10%  5%  9%\n",
            "\u001b[1;36m[libx264 @ 0x56a2d1dad900] \u001b[0mi8c dc,h,v,p: 40% 31% 20%  9%\n",
            "\u001b[1;36m[libx264 @ 0x56a2d1dad900] \u001b[0mWeighted P-Frames: Y:14.5% UV:10.6%\n",
            "\u001b[1;36m[libx264 @ 0x56a2d1dad900] \u001b[0mref P L0: 61.7% 26.2%  9.1%  2.6%  0.4%\n",
            "\u001b[1;36m[libx264 @ 0x56a2d1dad900] \u001b[0mref B L0: 92.1%  6.9%  1.0%\n",
            "\u001b[1;36m[libx264 @ 0x56a2d1dad900] \u001b[0mref B L1: 98.9%  1.1%\n",
            "\u001b[1;36m[libx264 @ 0x56a2d1dad900] \u001b[0mkb/s:1474.82\n",
            "ffmpeg version 4.4.2-0ubuntu0.22.04.1 Copyright (c) 2000-2021 the FFmpeg developers\n",
            "  built with gcc 11 (Ubuntu 11.2.0-19ubuntu1)\n",
            "  configuration: --prefix=/usr --extra-version=0ubuntu0.22.04.1 --toolchain=hardened --libdir=/usr/lib/x86_64-linux-gnu --incdir=/usr/include/x86_64-linux-gnu --arch=amd64 --enable-gpl --disable-stripping --enable-gnutls --enable-ladspa --enable-libaom --enable-libass --enable-libbluray --enable-libbs2b --enable-libcaca --enable-libcdio --enable-libcodec2 --enable-libdav1d --enable-libflite --enable-libfontconfig --enable-libfreetype --enable-libfribidi --enable-libgme --enable-libgsm --enable-libjack --enable-libmp3lame --enable-libmysofa --enable-libopenjpeg --enable-libopenmpt --enable-libopus --enable-libpulse --enable-librabbitmq --enable-librubberband --enable-libshine --enable-libsnappy --enable-libsoxr --enable-libspeex --enable-libsrt --enable-libssh --enable-libtheora --enable-libtwolame --enable-libvidstab --enable-libvorbis --enable-libvpx --enable-libwebp --enable-libx265 --enable-libxml2 --enable-libxvid --enable-libzimg --enable-libzmq --enable-libzvbi --enable-lv2 --enable-omx --enable-openal --enable-opencl --enable-opengl --enable-sdl2 --enable-pocketsphinx --enable-librsvg --enable-libmfx --enable-libdc1394 --enable-libdrm --enable-libiec61883 --enable-chromaprint --enable-frei0r --enable-libx264 --enable-shared\n",
            "  libavutil      56. 70.100 / 56. 70.100\n",
            "  libavcodec     58.134.100 / 58.134.100\n",
            "  libavformat    58. 76.100 / 58. 76.100\n",
            "  libavdevice    58. 13.100 / 58. 13.100\n",
            "  libavfilter     7.110.100 /  7.110.100\n",
            "  libswscale      5.  9.100 /  5.  9.100\n",
            "  libswresample   3.  9.100 /  3.  9.100\n",
            "  libpostproc    55.  9.100 / 55.  9.100\n",
            "Input #0, image2, from '/content/gaussian-splatting/GaussianViewTest/model/train/ours_30000/gt/%05d.png':\n",
            "  Duration: 00:01:40.33, start: 0.000000, bitrate: N/A\n",
            "  Stream #0:0: Video: png, rgb24(pc), 980x545, 3 fps, 3 tbr, 3 tbn, 3 tbc\n",
            "Stream mapping:\n",
            "  Stream #0:0 -> #0:0 (png (native) -> h264 (libx264))\n",
            "Press [q] to stop, [?] for help\n",
            "\u001b[1;36m[libx264 @ 0x571ff6e9fa40] \u001b[0musing cpu capabilities: MMX2 SSE2Fast SSSE3 SSE4.2 AVX FMA3 BMI2 AVX2 AVX512\n",
            "\u001b[1;36m[libx264 @ 0x571ff6e9fa40] \u001b[0mprofile High, level 3.1, 4:2:0, 8-bit\n",
            "\u001b[1;36m[libx264 @ 0x571ff6e9fa40] \u001b[0m264 - core 163 r3060 5db6aa6 - H.264/MPEG-4 AVC codec - Copyleft 2003-2021 - http://www.videolan.org/x264.html - options: cabac=1 ref=3 deblock=1:0:0 analyse=0x3:0x113 me=hex subme=7 psy=1 psy_rd=1.00:0.00 mixed_ref=1 me_range=16 chroma_me=1 trellis=1 8x8dct=1 cqm=0 deadzone=21,11 fast_pskip=1 chroma_qp_offset=-2 threads=3 lookahead_threads=1 sliced_threads=0 nr=0 decimate=1 interlaced=0 bluray_compat=0 constrained_intra=0 bframes=3 b_pyramid=2 b_adapt=1 b_bias=0 direct=1 weightb=1 open_gop=0 weightp=2 keyint=250 keyint_min=3 scenecut=40 intra_refresh=0 rc_lookahead=40 rc=crf mbtree=1 crf=23.0 qcomp=0.60 qpmin=0 qpmax=69 qpstep=4 ip_ratio=1.40 aq=1:1.00\n",
            "Output #0, mp4, to '/content/gt.mp4':\n",
            "  Metadata:\n",
            "    encoder         : Lavf58.76.100\n",
            "  Stream #0:0: Video: h264 (avc1 / 0x31637661), yuv420p(tv, progressive), 980x546, q=2-31, 3 fps, 12288 tbn\n",
            "    Metadata:\n",
            "      encoder         : Lavc58.134.100 libx264\n",
            "    Side data:\n",
            "      cpb: bitrate max/min/avg: 0/0/0 buffer size: 0 vbv_delay: N/A\n",
            "frame=  301 fps= 10 q=-1.0 Lsize=   24250kB time=00:01:39.33 bitrate=1999.9kbits/s speed=3.29x    \n",
            "video:24247kB audio:0kB subtitle:0kB other streams:0kB global headers:0kB muxing overhead: 0.015583%\n",
            "\u001b[1;36m[libx264 @ 0x571ff6e9fa40] \u001b[0mframe I:35    Avg QP:17.88  size:122742\n",
            "\u001b[1;36m[libx264 @ 0x571ff6e9fa40] \u001b[0mframe P:168   Avg QP:21.23  size: 84435\n",
            "\u001b[1;36m[libx264 @ 0x571ff6e9fa40] \u001b[0mframe B:98    Avg QP:21.27  size: 64762\n",
            "\u001b[1;36m[libx264 @ 0x571ff6e9fa40] \u001b[0mconsecutive B-frames: 50.5% 14.6% 11.0% 23.9%\n",
            "\u001b[1;36m[libx264 @ 0x571ff6e9fa40] \u001b[0mmb I  I16..4:  5.1% 44.2% 50.7%\n",
            "\u001b[1;36m[libx264 @ 0x571ff6e9fa40] \u001b[0mmb P  I16..4:  3.1% 32.0% 29.8%  P16..4: 10.0% 13.7% 10.9%  0.0%  0.0%    skip: 0.5%\n",
            "\u001b[1;36m[libx264 @ 0x571ff6e9fa40] \u001b[0mmb B  I16..4:  1.3% 12.0% 13.6%  B16..8: 18.6% 25.5% 18.0%  direct: 7.3%  skip: 3.8%  L0:42.9% L1:31.4% BI:25.7%\n",
            "\u001b[1;36m[libx264 @ 0x571ff6e9fa40] \u001b[0m8x8 transform intra:47.5% inter:55.3%\n",
            "\u001b[1;36m[libx264 @ 0x571ff6e9fa40] \u001b[0mcoded y,uvDC,uvAC intra: 90.9% 93.0% 76.2% inter: 73.1% 64.7% 10.5%\n",
            "\u001b[1;36m[libx264 @ 0x571ff6e9fa40] \u001b[0mi16 v,h,dc,p:  8% 38%  5% 48%\n",
            "\u001b[1;36m[libx264 @ 0x571ff6e9fa40] \u001b[0mi8 v,h,dc,ddl,ddr,vr,hd,vl,hu: 18% 22% 16%  5%  6%  6%  8%  6% 12%\n",
            "\u001b[1;36m[libx264 @ 0x571ff6e9fa40] \u001b[0mi4 v,h,dc,ddl,ddr,vr,hd,vl,hu: 21% 25% 10%  6%  7%  7%  9%  6% 10%\n",
            "\u001b[1;36m[libx264 @ 0x571ff6e9fa40] \u001b[0mi8c dc,h,v,p: 41% 29% 21%  9%\n",
            "\u001b[1;36m[libx264 @ 0x571ff6e9fa40] \u001b[0mWeighted P-Frames: Y:23.2% UV:15.5%\n",
            "\u001b[1;36m[libx264 @ 0x571ff6e9fa40] \u001b[0mref P L0: 65.9% 19.3% 10.2%  3.6%  1.0%\n",
            "\u001b[1;36m[libx264 @ 0x571ff6e9fa40] \u001b[0mref B L0: 91.5%  7.1%  1.4%\n",
            "\u001b[1;36m[libx264 @ 0x571ff6e9fa40] \u001b[0mref B L1: 97.6%  2.4%\n",
            "\u001b[1;36m[libx264 @ 0x571ff6e9fa40] \u001b[0mkb/s:1979.62\n"
          ]
        }
      ]
    }
  ],
  "metadata": {
    "accelerator": "GPU",
    "colab": {
      "gpuType": "T4",
      "provenance": [],
      "include_colab_link": true
    },
    "kernelspec": {
      "display_name": "Python 3",
      "name": "python3"
    },
    "language_info": {
      "name": "python"
    }
  },
  "nbformat": 4,
  "nbformat_minor": 0
}